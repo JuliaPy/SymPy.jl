{
  "cells": [
     {"cell_type":"markdown","source":"<h1>The SymPy tutorial (1.3) in <code>Julia</code></h1>","metadata":{"internals":{"slide_type":"subslide","slide_helper":"subslide_end"},"slideshow":{"slide_type":"slide"},"slide_helper":"slide_end"}},
{"cell_type":"markdown","source":"<h2>Table of contents</h2>","metadata":{"internals":{"slide_type":"subslide","slide_helper":"subslide_end"},"slideshow":{"slide_type":"slide"},"slide_helper":"slide_end"}},
{"cell_type":"markdown","source":"<ul>\n<li><p><a href=\"intro.html\">Introduction</a></p>\n</li>\n<li><p><a href=\"gotchas.html\">Gotchas</a></p>\n</li>\n<li><p><a href=\"basic_operations.html\">Basic Operations</a></p>\n</li>\n<li><p><a href=\"simplification.html\">Simplification</a></p>\n</li>\n<li><p><a href=\"calculus.html\">Calculus</a></p>\n</li>\n<li><p><a href=\"solvers.html\">Solvers</a></p>\n</li>\n<li><p><a href=\"matrices.html\">Matrices</a></p>\n</li>\n<li><p><a href=\"manipulation.html\">Advanced Expression Manipulation</a></p>\n</li>\n</ul>","metadata":{}},
{"cell_type":"markdown","source":"<h2>About <code>SymPy.jl</code></h2>","metadata":{"internals":{"slide_type":"subslide","slide_helper":"subslide_end"},"slideshow":{"slide_type":"slide"},"slide_helper":"slide_end"}},
{"cell_type":"markdown","source":"<p>The <code>SymPy</code> package for <code>Julia</code> allows <code>Julia</code> users to interact with  python's SymPy module in a mostly seamless manner, thanks to the power of the <code>PyCall</code> package for <code>Julia</code>. The following pages reexpress the SymPy tutorial illustrating the associated <code>Julia</code> commands. There are some changes, but mostly modest ones.</p>","metadata":{}},
{"cell_type":"markdown","source":"<p>The <code>SymPy</code> package for <code>Julia</code> essentially does:</p>","metadata":{}},
{"cell_type":"markdown","source":"<ul>\n<li><p>it provides a type for symbolic objects, a simple wrapper around the underlying <code>PyCall</code> objects.</p>\n</li>\n</ul>","metadata":{}},
{"cell_type":"markdown","source":"<p>Such objects may be created using the SymPy syntax:</p>","metadata":{}},
{"outputs":[{"output_type":"execute_result","data":{"text/plain":["(x, y)"]},"metadata":{},"execution_count":1}],"cell_type":"code","source":["using SymPy\nx, y = symbols(\"x, y\")"],"metadata":{},"execution_count":1},
{"cell_type":"markdown","source":"<p>Alternatively, the <code>@vars</code> macro may be used:</p>","metadata":{}},
{"outputs":[{"output_type":"execute_result","data":{"text/plain":["(a, b)"]},"metadata":{},"execution_count":1}],"cell_type":"code","source":["@vars a b real=true"],"metadata":{},"execution_count":1},
{"cell_type":"markdown","source":"<ul>\n<li><p>Symbolic objects are subtypes of numbers, <code>SymPy</code> provides methods for the generic interface for Julia numbers. For example, elementary operations <code>&#43;</code>, <code>-</code>, <code>*</code>, <code>/</code>, <code>^</code> are defined as well as more <code>Julia</code>-specific methodssuch as <code>ones</code>, <code>zeros</code>, <code>eps</code>, etc.</p>\n</li>\n<li><p>SymPy is organized around various modules, from which functions are imported for use. A common SymPy command would be:</p>\n</li>\n</ul>","metadata":{}},
{"outputs":[],"cell_type":"code","source":["from sympy import *"],"metadata":{},"execution_count":1},
{"cell_type":"markdown","source":"<p>This imports all functions <em>and</em> modules from the base sympy module into the user's namespace. By default, <code>SymPy</code> imports all functions from <code>sympy</code> – but <em>no</em> modules, as there would be several conflicts with fundamental <code>Julia</code> objects (e.g., <code>Matrix</code>). As such, modules must be qualified, as in <code>sympy.Matrix</code>. (<code>SymPy</code> exports the underlying <code>sympy</code> object.) For other modules, <code>SymPy</code> provides the function <code>import_from</code> to load functions from a given module.</p>","metadata":{}},
{"cell_type":"markdown","source":"<p>The functions imported by <code>SymPy</code> are specialized so that their first argument is of symbolic type. This is not always appropriate, as some SymPy functions naturally take integer values for the first entry. An example is <code>ones</code>. Either the integer can be made symbolic (as with <code>Sym&#40;1&#41;</code>) or the function can be qualified, as in <code>sympy.ones</code>.</p>","metadata":{}},
{"cell_type":"markdown","source":"<ul>\n<li><p>SymPy and <code>Julia</code> have matrix (and vector) objects. These may be expressed as elements of type <code>Matrix&#123;Sym&#125;</code> (using <code>Julia</code>'s generic matrix type to store symbolic objects. SymPy methods for matrices are available using the <code>getproperty</code> notation (the dot), whereas, <code>Julia</code> methods would just use the fact that <code>Matrix&#123;Sym&#125;</code> will have many generic methods already defined for it.</p>\n</li>\n</ul>","metadata":{}},
{"cell_type":"markdown","source":"<p>A quick example:</p>","metadata":{}},
{"outputs":[{"output_type":"execute_result","data":{"text/plain":["((2, 2), (2, 2))"]},"metadata":{},"execution_count":1}],"cell_type":"code","source":["\n@vars x\nA = [1 x; x x^3]  # Matrix{Sym}\nusing LinearAlgebra\nA.shape, size(A)"],"metadata":{},"execution_count":1}
    ],
 "metadata": {
  "language_info": {
   "file_extension": ".jl",
   "mimetype": "application/julia",
   "name": "julia",
   "version": "0.6"
  },
 "kernelspec": {
   "display_name": "Julia 1.0.0",
   "language": "julia",
   "name": "julia-1.0"
  }

 },
 "nbformat": 4,
 "nbformat_minor": 2

}
