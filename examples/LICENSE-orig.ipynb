{
  "cells": [
     {"cell_type":"markdown","source":"<p>Copyright (c) 2006-2018 SymPy Development Team</p>","metadata":{}},
{"cell_type":"markdown","source":"<p>All rights reserved.</p>","metadata":{}},
{"cell_type":"markdown","source":"<p>Redistribution and use in source and binary forms, with or without modification, are permitted provided that the following conditions are met:</p>","metadata":{}},
{"cell_type":"markdown","source":"<p>a. Redistributions of source code must retain the above copyright notice,      this list of conditions and the following disclaimer.   b. Redistributions in binary form must reproduce the above copyright      notice, this list of conditions and the following disclaimer in the      documentation and/or other materials provided with the distribution.   c. Neither the name of SymPy nor the names of its contributors      may be used to endorse or promote products derived from this software      without specific prior written permission.</p>","metadata":{}},
{"cell_type":"markdown","source":"<p>THIS SOFTWARE IS PROVIDED BY THE COPYRIGHT HOLDERS AND CONTRIBUTORS \"AS IS\" AND ANY EXPRESS OR IMPLIED WARRANTIES, INCLUDING, BUT NOT LIMITED TO, THE IMPLIED WARRANTIES OF MERCHANTABILITY AND FITNESS FOR A PARTICULAR PURPOSE ARE DISCLAIMED. IN NO EVENT SHALL THE REGENTS OR CONTRIBUTORS BE LIABLE FOR ANY DIRECT, INDIRECT, INCIDENTAL, SPECIAL, EXEMPLARY, OR CONSEQUENTIAL DAMAGES (INCLUDING, BUT NOT LIMITED TO, PROCUREMENT OF SUBSTITUTE GOODS OR SERVICES; LOSS OF USE, DATA, OR PROFITS; OR BUSINESS INTERRUPTION) HOWEVER CAUSED AND ON ANY THEORY OF LIABILITY, WHETHER IN CONTRACT, STRICT LIABILITY, OR TORT (INCLUDING NEGLIGENCE OR OTHERWISE) ARISING IN ANY WAY OUT OF THE USE OF THIS SOFTWARE, EVEN IF ADVISED OF THE POSSIBILITY OF SUCH DAMAGE.</p>","metadata":{}},
{"cell_type":"markdown","source":"<hr />","metadata":{}},
{"cell_type":"markdown","source":"<p>Patches taken from the Diofant project (https://github.com/diofant/diofant) are licensed as:</p>","metadata":{}},
{"cell_type":"markdown","source":"<p>Copyright (c) 2006-2017 SymPy Development Team,               2013-2017 Sergey B Kirpichev</p>","metadata":{}},
{"cell_type":"markdown","source":"<p>All rights reserved.</p>","metadata":{}},
{"cell_type":"markdown","source":"<p>Redistribution and use in source and binary forms, with or without modification, are permitted provided that the following conditions are met:</p>","metadata":{}},
{"cell_type":"markdown","source":"<p>a. Redistributions of source code must retain the above copyright notice,      this list of conditions and the following disclaimer.   b. Redistributions in binary form must reproduce the above copyright      notice, this list of conditions and the following disclaimer in the      documentation and/or other materials provided with the distribution.   c. Neither the name of Diofant, or SymPy nor the names of its contributors      may be used to endorse or promote products derived from this software      without specific prior written permission.</p>","metadata":{}},
{"cell_type":"markdown","source":"<p>THIS SOFTWARE IS PROVIDED BY THE COPYRIGHT HOLDERS AND CONTRIBUTORS \"AS IS\" AND ANY EXPRESS OR IMPLIED WARRANTIES, INCLUDING, BUT NOT LIMITED TO, THE IMPLIED WARRANTIES OF MERCHANTABILITY AND FITNESS FOR A PARTICULAR PURPOSE ARE DISCLAIMED. IN NO EVENT SHALL THE REGENTS OR CONTRIBUTORS BE LIABLE FOR ANY DIRECT, INDIRECT, INCIDENTAL, SPECIAL, EXEMPLARY, OR CONSEQUENTIAL DAMAGES (INCLUDING, BUT NOT LIMITED TO, PROCUREMENT OF SUBSTITUTE GOODS OR SERVICES; LOSS OF USE, DATA, OR PROFITS; OR BUSINESS INTERRUPTION) HOWEVER CAUSED AND ON ANY THEORY OF LIABILITY, WHETHER IN CONTRACT, STRICT LIABILITY, OR TORT (INCLUDING NEGLIGENCE OR OTHERWISE) ARISING IN ANY WAY OUT OF THE USE OF THIS SOFTWARE, EVEN IF ADVISED OF THE POSSIBILITY OF SUCH DAMAGE.</p>","metadata":{}},
{"cell_type":"markdown","source":"<hr />","metadata":{}},
{"cell_type":"markdown","source":"<p>Submodule taken from the multipledispatch project (https://github.com/mrocklin/multipledispatch) are licensed as:</p>","metadata":{}},
{"cell_type":"markdown","source":"<p>Copyright (c) 2014 Matthew Rocklin</p>","metadata":{}},
{"cell_type":"markdown","source":"<p>All rights reserved.</p>","metadata":{}},
{"cell_type":"markdown","source":"<p>Redistribution and use in source and binary forms, with or without modification, are permitted provided that the following conditions are met:</p>","metadata":{}},
{"cell_type":"markdown","source":"<p>a. Redistributions of source code must retain the above copyright notice,      this list of conditions and the following disclaimer.   b. Redistributions in binary form must reproduce the above copyright      notice, this list of conditions and the following disclaimer in the      documentation and/or other materials provided with the distribution.   c. Neither the name of multipledispatch nor the names of its contributors      may be used to endorse or promote products derived from this software      without specific prior written permission.</p>","metadata":{}},
{"cell_type":"markdown","source":"<p>THIS SOFTWARE IS PROVIDED BY THE COPYRIGHT HOLDERS AND CONTRIBUTORS \"AS IS\" AND ANY EXPRESS OR IMPLIED WARRANTIES, INCLUDING, BUT NOT LIMITED TO, THE IMPLIED WARRANTIES OF MERCHANTABILITY AND FITNESS FOR A PARTICULAR PURPOSE ARE DISCLAIMED. IN NO EVENT SHALL THE REGENTS OR CONTRIBUTORS BE LIABLE FOR ANY DIRECT, INDIRECT, INCIDENTAL, SPECIAL, EXEMPLARY, OR CONSEQUENTIAL DAMAGES (INCLUDING, BUT NOT LIMITED TO, PROCUREMENT OF SUBSTITUTE GOODS OR SERVICES; LOSS OF USE, DATA, OR PROFITS; OR BUSINESS INTERRUPTION) HOWEVER CAUSED AND ON ANY THEORY OF LIABILITY, WHETHER IN CONTRACT, STRICT LIABILITY, OR TORT (INCLUDING NEGLIGENCE OR OTHERWISE) ARISING IN ANY WAY OUT OF THE USE OF THIS SOFTWARE, EVEN IF ADVISED OF THE POSSIBILITY OF SUCH DAMAGE.</p>","metadata":{}}
    ],
 "metadata": {
  "language_info": {
   "file_extension": ".jl",
   "mimetype": "application/julia",
   "name": "julia",
   "version": "0.6"
  },
 "kernelspec": {
   "display_name": "Julia 1.0.0",
   "language": "julia",
   "name": "julia-1.0"
  }

 },
 "nbformat": 4,
 "nbformat_minor": 2

}
