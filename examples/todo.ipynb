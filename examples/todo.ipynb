{
  "cells": [
     {"cell_type":"markdown","source":"<ul>\n<li><p>copy source</p>\n</li>\n<li><p>replace `<code>with</code></p>\n</li>\n<li><p>change section headers</p>\n</li>\n<li><p>use macro to create ```verbatim blocks</p>\n</li>\n<li><p>fix ..math and <code>\\...</code> stuff</p>\n</li>\n</ul>","metadata":{}}
    ],
 "metadata": {
  "language_info": {
   "file_extension": ".jl",
   "mimetype": "application/julia",
   "name": "julia",
   "version": "0.6"
  },
 "kernelspec": {
   "display_name": "Julia 1.0.0",
   "language": "julia",
   "name": "julia-1.0"
  }

 },
 "nbformat": 4,
 "nbformat_minor": 2

}
